{
 "cells": [
  {
   "cell_type": "markdown",
   "id": "39b91482-5df2-417f-a825-9a4a1224ad51",
   "metadata": {},
   "source": [
    "# Data Science Tools and Ecosystem"
   ]
  },
  {
   "cell_type": "markdown",
   "id": "80f6bcb9-cbe7-4916-a232-a76165e4dac5",
   "metadata": {},
   "source": [
    "## In this notebook, Data Science Tools and Ecosystem are summarized."
   ]
  },
  {
   "cell_type": "markdown",
   "id": "a2db4579-bedc-4bbc-9db0-a815b634b511",
   "metadata": {},
   "source": [
    "### Some of the popular languages that Data Scientists use are:\n",
    "1. Python\n",
    "2. R\n",
    "3. Julia"
   ]
  },
  {
   "cell_type": "markdown",
   "id": "2dac835a-0346-4270-b8f4-33f5c37bd53d",
   "metadata": {},
   "source": [
    "### Some of the commonly used libraries used by Data Scientists include:\n",
    "1. Numpy\n",
    "2. Matplotlib\n",
    "3. Scipy\n",
    "4. Pytorch\n",
    "5. Pandas"
   ]
  },
  {
   "cell_type": "markdown",
   "id": "c02f77aa-0a89-4ff4-a545-c7a5a6acbd8c",
   "metadata": {},
   "source": [
    "### Some of the commonly used Data Science Tools\n",
    "|Data Science Tools|\n",
    "|------------------|\n",
    "|Jupyter|\n",
    "|JupyterLab|\n",
    "|Apache Zaphelin|\n",
    "|R studio|"
   ]
  },
  {
   "cell_type": "markdown",
   "id": "9cf8069e-7b2b-45a5-965e-7847e50a3391",
   "metadata": {},
   "source": [
    "### Below are a few arithmetic expression in Python "
   ]
  },
  {
   "cell_type": "code",
   "execution_count": 21,
   "id": "9c4e0721-f2e8-450a-be2e-19f35d4da3bd",
   "metadata": {},
   "outputs": [
    {
     "data": {
      "text/plain": [
       "100"
      ]
     },
     "execution_count": 21,
     "metadata": {},
     "output_type": "execute_result"
    }
   ],
   "source": [
    "(20+5)*4"
   ]
  },
  {
   "cell_type": "code",
   "execution_count": 23,
   "id": "04172426-74ad-44ae-925e-1db276892791",
   "metadata": {},
   "outputs": [
    {
     "data": {
      "text/plain": [
       "16.0"
      ]
     },
     "execution_count": 23,
     "metadata": {},
     "output_type": "execute_result"
    }
   ],
   "source": [
    "(20*4)/5 "
   ]
  },
  {
   "cell_type": "code",
   "execution_count": 25,
   "id": "30267d7c-282e-43a9-856f-6d6862032baf",
   "metadata": {},
   "outputs": [
    {
     "data": {
      "text/plain": [
       "4500"
      ]
     },
     "execution_count": 25,
     "metadata": {},
     "output_type": "execute_result"
    }
   ],
   "source": [
    "(40+5)*100"
   ]
  },
  {
   "cell_type": "code",
   "execution_count": 28,
   "id": "687a1211-7ada-4126-b712-fc4f63730623",
   "metadata": {},
   "outputs": [
    {
     "data": {
      "text/plain": [
       "17"
      ]
     },
     "execution_count": 28,
     "metadata": {},
     "output_type": "execute_result"
    }
   ],
   "source": [
    "#This a simple arithmetic expression to mutiply then add integers\n",
    "(3*4)+5"
   ]
  },
  {
   "cell_type": "code",
   "execution_count": 30,
   "id": "e7ba34e7-0e37-4e8d-9a73-e7bc1a651bbc",
   "metadata": {},
   "outputs": [
    {
     "data": {
      "text/plain": [
       "3.3333333333333335"
      ]
     },
     "execution_count": 30,
     "metadata": {},
     "output_type": "execute_result"
    }
   ],
   "source": [
    "# This will convert 200 minutes to hours by diving by 60\n",
    "200/60\n",
    "\n"
   ]
  },
  {
   "cell_type": "markdown",
   "id": "7566c923-0f2d-479c-af57-b0c0c63d4906",
   "metadata": {},
   "source": [
    "**OBJECTIVE:**\n",
    "- List of popular languanges for data science\n",
    "- Commonly Used Data Sciences Tools\n",
    "- Arithmetic expression in Python\n"
   ]
  },
  {
   "cell_type": "markdown",
   "id": "d7d02433-669f-47e0-b7a3-866b3370a59f",
   "metadata": {},
   "source": [
    "## Author\n",
    "Rafiq Iqbal "
   ]
  },
  {
   "cell_type": "code",
   "execution_count": null,
   "id": "6bae97e5-2c16-4d44-b606-5fce30c3c9c7",
   "metadata": {},
   "outputs": [],
   "source": []
  }
 ],
 "metadata": {
  "kernelspec": {
   "display_name": "Python 3 (ipykernel)",
   "language": "python",
   "name": "python3"
  },
  "language_info": {
   "codemirror_mode": {
    "name": "ipython",
    "version": 3
   },
   "file_extension": ".py",
   "mimetype": "text/x-python",
   "name": "python",
   "nbconvert_exporter": "python",
   "pygments_lexer": "ipython3",
   "version": "3.12.4"
  }
 },
 "nbformat": 4,
 "nbformat_minor": 5
}
